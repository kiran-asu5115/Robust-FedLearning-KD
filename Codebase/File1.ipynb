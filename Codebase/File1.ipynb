{
 "cells": [
  {
   "cell_type": "code",
   "execution_count": 4,
   "id": "123605fe",
   "metadata": {},
   "outputs": [
    {
     "name": "stdout",
     "output_type": "stream",
     "text": [
      "Requirement already satisfied: numba in c:\\users\\kiran s\\appdata\\local\\programs\\python\\python39\\lib\\site-packages (0.56.4)\n",
      "Requirement already satisfied: llvmlite<0.40,>=0.39.0dev0 in c:\\users\\kiran s\\appdata\\local\\programs\\python\\python39\\lib\\site-packages (from numba) (0.39.1)\n",
      "Requirement already satisfied: setuptools in c:\\users\\kiran s\\appdata\\local\\programs\\python\\python39\\lib\\site-packages (from numba) (59.4.0)\n",
      "Requirement already satisfied: numpy<1.24,>=1.18 in c:\\users\\kiran s\\appdata\\local\\programs\\python\\python39\\lib\\site-packages (from numba) (1.21.4)\n"
     ]
    },
    {
     "name": "stderr",
     "output_type": "stream",
     "text": [
      "WARNING: You are using pip version 21.3.1; however, version 22.3 is available.\n",
      "You should consider upgrading via the 'c:\\users\\kiran s\\appdata\\local\\programs\\python\\python39\\python.exe -m pip install --upgrade pip' command.\n",
      "ERROR: Could not find a version that satisfies the requirement cudatoolkit (from versions: none)\n",
      "ERROR: No matching distribution found for cudatoolkit\n",
      "WARNING: You are using pip version 21.3.1; however, version 22.3 is available.\n",
      "You should consider upgrading via the 'c:\\users\\kiran s\\appdata\\local\\programs\\python\\python39\\python.exe -m pip install --upgrade pip' command.\n"
     ]
    }
   ],
   "source": [
    "!pip install numba\n",
    "!pip install cudatoolkit"
   ]
  },
  {
   "cell_type": "code",
   "execution_count": null,
   "id": "3d577871",
   "metadata": {},
   "outputs": [],
   "source": []
  }
 ],
 "metadata": {
  "kernelspec": {
   "display_name": "Python 3 (ipykernel)",
   "language": "python",
   "name": "python3"
  },
  "language_info": {
   "codemirror_mode": {
    "name": "ipython",
    "version": 3
   },
   "file_extension": ".py",
   "mimetype": "text/x-python",
   "name": "python",
   "nbconvert_exporter": "python",
   "pygments_lexer": "ipython3",
   "version": "3.9.0"
  }
 },
 "nbformat": 4,
 "nbformat_minor": 5
}
